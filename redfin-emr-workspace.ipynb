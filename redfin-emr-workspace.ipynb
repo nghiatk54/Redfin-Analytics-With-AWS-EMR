from pyspark.sql import SparkSession
from pyspark.sql.functions import col

%%bash
wget -O - https://redfin-public-data.s3.us-west-2.amazonaws.com/redfin_market_tracker/city_market_tracker.tsv000.gz | aws s3 cp - s3://store-raw-data-yml/city_market_tracker.tsv000.gz
--2023-10-23 18:38:14--  https://redfin-public-data.s3.us-west-2.amazonaws.com/redfin_market_tracker/city_market_tracker.tsv000.gz

spark = SparkSession.builder.appName("RedfinDataAnalysis").getOrCreate()

redfin_data = spark.read.csv("s3://store-raw-data-yml/city_market_tracker.tsv000.gz", header=True, inferSchema=True, sep= "\t")
